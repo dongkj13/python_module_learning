{
 "cells": [
  {
   "cell_type": "code",
   "execution_count": 4,
   "metadata": {},
   "outputs": [],
   "source": [
    "from surprise import SVD\n",
    "from surprise import Dataset\n",
    "from surprise.model_selection import cross_validate\n",
    "from surprise import accuracy\n",
    "from surprise.model_selection import train_test_split\n",
    "\n",
    "# Load the movielens-100k dataset (download it if needed),\n",
    "data = Dataset.load_builtin('ml-100k')"
   ]
  },
  {
   "cell_type": "code",
   "execution_count": 5,
   "metadata": {},
   "outputs": [
    {
     "name": "stdout",
     "output_type": "stream",
     "text": [
      "Evaluating RMSE, MAE of algorithm SVD on 5 split(s).\n",
      "\n",
      "                  Fold 1  Fold 2  Fold 3  Fold 4  Fold 5  Mean    Std     \n",
      "RMSE (testset)    0.9387  0.9335  0.9367  0.9475  0.9308  0.9374  0.0057  \n",
      "MAE (testset)     0.7408  0.7376  0.7378  0.7465  0.7316  0.7389  0.0049  \n",
      "Fit time          6.56    6.66    6.36    6.21    6.43    6.44    0.16    \n",
      "Test time         0.23    0.23    0.23    0.22    0.19    0.22    0.01    \n"
     ]
    },
    {
     "data": {
      "text/plain": [
       "{'fit_time': (6.563972473144531,\n",
       "  6.660318374633789,\n",
       "  6.35680365562439,\n",
       "  6.214033842086792,\n",
       "  6.427691459655762),\n",
       " 'test_mae': array([0.7408325 , 0.73755991, 0.73783672, 0.74648686, 0.73158329]),\n",
       " 'test_rmse': array([0.93872587, 0.93346389, 0.93673139, 0.94745581, 0.93078679]),\n",
       " 'test_time': (0.22863292694091797,\n",
       "  0.23062968254089355,\n",
       "  0.22913312911987305,\n",
       "  0.22364115715026855,\n",
       "  0.1911945343017578)}"
      ]
     },
     "execution_count": 5,
     "metadata": {},
     "output_type": "execute_result"
    }
   ],
   "source": [
    "# We'll use the famous SVD algorithm.\n",
    "model = SVD()\n",
    "\n",
    "# Run 5-fold cross-validation and print results\n",
    "cross_validate(model, data, measures=['RMSE', 'MAE'], cv=5, verbose=True)"
   ]
  },
  {
   "cell_type": "code",
   "execution_count": 33,
   "metadata": {},
   "outputs": [
    {
     "name": "stdout",
     "output_type": "stream",
     "text": [
      "train\n",
      "n_users : 943    n_items : 1647    n_ratings : 75000\n",
      "minimum and maximal rating : (1, 5)\n",
      "global mean : 3.525400\n",
      "----------------------------------------------\n",
      "test\n",
      "n_ratings : 25000\n"
     ]
    }
   ],
   "source": [
    "# sample random trainset and testset\n",
    "# test set is made of 25% of the ratings.\n",
    "trainset, testset = train_test_split(data, test_size=.25)\n",
    "\n",
    "print('train')\n",
    "print('n_users : %d    n_items : %d    n_ratings : %d' % (trainset.n_users, trainset.n_items, trainset.n_ratings))\n",
    "print('minimum and maximal rating : %s' % str(trainset.rating_scale))\n",
    "print('global mean : %f' % trainset.global_mean)\n",
    "# print(trainset.ur[0])  # user[0]的所有评分电影\n",
    "# print(trainset.ir[0])  # item[0]的所有被评分用户\n",
    "\n",
    "print('----------------------------------------------')\n",
    "print('test')\n",
    "print('n_ratings : %d' % (len(testset)))"
   ]
  },
  {
   "cell_type": "code",
   "execution_count": 34,
   "metadata": {},
   "outputs": [
    {
     "name": "stdout",
     "output_type": "stream",
     "text": [
      "RMSE: 0.9308\n"
     ]
    },
    {
     "data": {
      "text/plain": [
       "0.9307562688877683"
      ]
     },
     "execution_count": 34,
     "metadata": {},
     "output_type": "execute_result"
    }
   ],
   "source": [
    "# We'll use the famous SVD algorithm.\n",
    "model = SVD()\n",
    "\n",
    "# Train the algorithm on the trainset, and predict ratings for the testset\n",
    "model.fit(trainset)\n",
    "predictions = model.test(testset)\n",
    "\n",
    "# Then compute RMSE\n",
    "accuracy.rmse(predictions)"
   ]
  },
  {
   "cell_type": "code",
   "execution_count": 38,
   "metadata": {},
   "outputs": [
    {
     "data": {
      "text/plain": [
       "[Prediction(uid='409', iid='855', r_ui=4.0, est=3.5846790374297077, details={'was_impossible': False}),\n",
       " Prediction(uid='833', iid='288', r_ui=2.0, est=2.520258861897667, details={'was_impossible': False}),\n",
       " Prediction(uid='532', iid='470', r_ui=5.0, est=4.329269375508202, details={'was_impossible': False}),\n",
       " Prediction(uid='95', iid='1230', r_ui=1.0, est=2.414760160554934, details={'was_impossible': False}),\n",
       " Prediction(uid='383', iid='488', r_ui=4.0, est=4.526305640227868, details={'was_impossible': False})]"
      ]
     },
     "execution_count": 38,
     "metadata": {},
     "output_type": "execute_result"
    }
   ],
   "source": [
    "predictions[:5]"
   ]
  }
 ],
 "metadata": {
  "kernelspec": {
   "display_name": "Python 3",
   "language": "python",
   "name": "python3"
  },
  "language_info": {
   "codemirror_mode": {
    "name": "ipython",
    "version": 3
   },
   "file_extension": ".py",
   "mimetype": "text/x-python",
   "name": "python",
   "nbconvert_exporter": "python",
   "pygments_lexer": "ipython3",
   "version": "3.6.2"
  }
 },
 "nbformat": 4,
 "nbformat_minor": 2
}
