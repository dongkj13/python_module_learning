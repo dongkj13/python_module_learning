{
 "cells": [
  {
   "cell_type": "code",
   "execution_count": 1,
   "metadata": {},
   "outputs": [],
   "source": [
    "import numpy as np\n",
    "import pandas as pd\n",
    "import matplotlib.pyplot as plt\n",
    "%matplotlib inline\n",
    "\n",
    "plt.rcParams['font.sans-serif'] = ['SimHei']  #用来正常显示中文标签\n",
    "plt.rcParams['axes.unicode_minus'] = False    #用来正常显示负号\n",
    "plt.style.use('ggplot')\n",
    "\n",
    "df = pd.read_excel('./movie_data.xls')"
   ]
  },
  {
   "cell_type": "markdown",
   "metadata": {},
   "source": [
    "# 查看"
   ]
  },
  {
   "cell_type": "markdown",
   "metadata": {},
   "source": [
    "## 数据"
   ]
  },
  {
   "cell_type": "code",
   "execution_count": 2,
   "metadata": {},
   "outputs": [
    {
     "data": {
      "text/html": [
       "<div>\n",
       "<style>\n",
       "    .dataframe thead tr:only-child th {\n",
       "        text-align: right;\n",
       "    }\n",
       "\n",
       "    .dataframe thead th {\n",
       "        text-align: left;\n",
       "    }\n",
       "\n",
       "    .dataframe tbody tr th {\n",
       "        vertical-align: top;\n",
       "    }\n",
       "</style>\n",
       "<table border=\"1\" class=\"dataframe\">\n",
       "  <thead>\n",
       "    <tr style=\"text-align: right;\">\n",
       "      <th></th>\n",
       "      <th>mid</th>\n",
       "      <th>name</th>\n",
       "      <th>release_year</th>\n",
       "      <th>country</th>\n",
       "      <th>type</th>\n",
       "      <th>myRate</th>\n",
       "      <th>myTag</th>\n",
       "      <th>href</th>\n",
       "    </tr>\n",
       "  </thead>\n",
       "  <tbody>\n",
       "    <tr>\n",
       "      <th>0</th>\n",
       "      <td>4864908</td>\n",
       "      <td>影</td>\n",
       "      <td>2018</td>\n",
       "      <td>中国大陆</td>\n",
       "      <td>电影</td>\n",
       "      <td>4</td>\n",
       "      <td>['古装', '动作']</td>\n",
       "      <td>https://movie.douban.com/subject/4864908/</td>\n",
       "    </tr>\n",
       "  </tbody>\n",
       "</table>\n",
       "</div>"
      ],
      "text/plain": [
       "       mid name  release_year country type  myRate         myTag  \\\n",
       "0  4864908    影          2018    中国大陆   电影       4  ['古装', '动作']   \n",
       "\n",
       "                                        href  \n",
       "0  https://movie.douban.com/subject/4864908/  "
      ]
     },
     "execution_count": 2,
     "metadata": {},
     "output_type": "execute_result"
    }
   ],
   "source": [
    "df.head(1)  # 前n行"
   ]
  },
  {
   "cell_type": "code",
   "execution_count": 3,
   "metadata": {},
   "outputs": [
    {
     "data": {
      "text/html": [
       "<div>\n",
       "<style>\n",
       "    .dataframe thead tr:only-child th {\n",
       "        text-align: right;\n",
       "    }\n",
       "\n",
       "    .dataframe thead th {\n",
       "        text-align: left;\n",
       "    }\n",
       "\n",
       "    .dataframe tbody tr th {\n",
       "        vertical-align: top;\n",
       "    }\n",
       "</style>\n",
       "<table border=\"1\" class=\"dataframe\">\n",
       "  <thead>\n",
       "    <tr style=\"text-align: right;\">\n",
       "      <th></th>\n",
       "      <th>mid</th>\n",
       "      <th>name</th>\n",
       "      <th>release_year</th>\n",
       "      <th>country</th>\n",
       "      <th>type</th>\n",
       "      <th>myRate</th>\n",
       "      <th>myTag</th>\n",
       "      <th>href</th>\n",
       "    </tr>\n",
       "  </thead>\n",
       "  <tbody>\n",
       "    <tr>\n",
       "      <th>438</th>\n",
       "      <td>25908042</td>\n",
       "      <td>横冲直撞好莱坞</td>\n",
       "      <td>2015</td>\n",
       "      <td>中国大陆</td>\n",
       "      <td>电影</td>\n",
       "      <td>2</td>\n",
       "      <td>['喜剧', '冒险']</td>\n",
       "      <td>https://movie.douban.com/subject/25908042/</td>\n",
       "    </tr>\n",
       "  </tbody>\n",
       "</table>\n",
       "</div>"
      ],
      "text/plain": [
       "          mid     name  release_year country type  myRate         myTag  \\\n",
       "438  25908042  横冲直撞好莱坞          2015    中国大陆   电影       2  ['喜剧', '冒险']   \n",
       "\n",
       "                                           href  \n",
       "438  https://movie.douban.com/subject/25908042/  "
      ]
     },
     "execution_count": 3,
     "metadata": {},
     "output_type": "execute_result"
    }
   ],
   "source": [
    "df.sample(1) # 随机n行"
   ]
  },
  {
   "cell_type": "code",
   "execution_count": 4,
   "metadata": {},
   "outputs": [
    {
     "data": {
      "text/html": [
       "<div>\n",
       "<style>\n",
       "    .dataframe thead tr:only-child th {\n",
       "        text-align: right;\n",
       "    }\n",
       "\n",
       "    .dataframe thead th {\n",
       "        text-align: left;\n",
       "    }\n",
       "\n",
       "    .dataframe tbody tr th {\n",
       "        vertical-align: top;\n",
       "    }\n",
       "</style>\n",
       "<table border=\"1\" class=\"dataframe\">\n",
       "  <thead>\n",
       "    <tr style=\"text-align: right;\">\n",
       "      <th></th>\n",
       "      <th>mid</th>\n",
       "      <th>name</th>\n",
       "      <th>release_year</th>\n",
       "      <th>country</th>\n",
       "      <th>type</th>\n",
       "      <th>myRate</th>\n",
       "      <th>myTag</th>\n",
       "      <th>href</th>\n",
       "    </tr>\n",
       "  </thead>\n",
       "  <tbody>\n",
       "    <tr>\n",
       "      <th>585</th>\n",
       "      <td>1972724</td>\n",
       "      <td>斯坦福监狱实验</td>\n",
       "      <td>2015</td>\n",
       "      <td>美国</td>\n",
       "      <td>电影</td>\n",
       "      <td>5</td>\n",
       "      <td>['真实事件改编', '人性', '惊悚']</td>\n",
       "      <td>https://movie.douban.com/subject/1972724/</td>\n",
       "    </tr>\n",
       "  </tbody>\n",
       "</table>\n",
       "</div>"
      ],
      "text/plain": [
       "         mid     name  release_year country type  myRate  \\\n",
       "585  1972724  斯坦福监狱实验          2015      美国   电影       5   \n",
       "\n",
       "                      myTag                                       href  \n",
       "585  ['真实事件改编', '人性', '惊悚']  https://movie.douban.com/subject/1972724/  "
      ]
     },
     "execution_count": 4,
     "metadata": {},
     "output_type": "execute_result"
    }
   ],
   "source": [
    "df.tail(1)  # 后n行"
   ]
  },
  {
   "cell_type": "markdown",
   "metadata": {},
   "source": [
    "## 基本信息"
   ]
  },
  {
   "cell_type": "code",
   "execution_count": 5,
   "metadata": {},
   "outputs": [
    {
     "name": "stdout",
     "output_type": "stream",
     "text": [
      "索引: \t RangeIndex(start=0, stop=586, step=1)\n",
      "列名: \t ['mid', 'name', 'release_year', 'country', 'type', 'myRate', 'myTag', 'href']\n",
      "各列类型: \n",
      " mid              int64\n",
      "name            object\n",
      "release_year     int64\n",
      "country         object\n",
      "type            object\n",
      "myRate           int64\n",
      "myTag           object\n",
      "href            object\n",
      "dtype: object\n",
      "表格大小: \t (586, 8)\n"
     ]
    }
   ],
   "source": [
    "print('索引: \\t', df.index)\n",
    "print('列名: \\t', list(df.columns))\n",
    "print('各列类型: \\n', df.dtypes)\n",
    "print('表格大小: \\t', df.shape)"
   ]
  },
  {
   "cell_type": "markdown",
   "metadata": {},
   "source": [
    "# 修改"
   ]
  },
  {
   "cell_type": "markdown",
   "metadata": {},
   "source": [
    "## 类型转换"
   ]
  },
  {
   "cell_type": "code",
   "execution_count": 6,
   "metadata": {},
   "outputs": [
    {
     "data": {
      "text/plain": [
       "mid               int64\n",
       "name             object\n",
       "release_year      int64\n",
       "country          object\n",
       "type             object\n",
       "myRate          float64\n",
       "myTag            object\n",
       "href             object\n",
       "dtype: object"
      ]
     },
     "execution_count": 6,
     "metadata": {},
     "output_type": "execute_result"
    }
   ],
   "source": [
    "df1 = df.copy()\n",
    "df1.myRate = df1.myRate.astype(np.float64)\n",
    "df1.dtypes"
   ]
  },
  {
   "cell_type": "markdown",
   "metadata": {},
   "source": [
    "## 列别名"
   ]
  },
  {
   "cell_type": "code",
   "execution_count": 7,
   "metadata": {},
   "outputs": [
    {
     "data": {
      "text/html": [
       "<div>\n",
       "<style>\n",
       "    .dataframe thead tr:only-child th {\n",
       "        text-align: right;\n",
       "    }\n",
       "\n",
       "    .dataframe thead th {\n",
       "        text-align: left;\n",
       "    }\n",
       "\n",
       "    .dataframe tbody tr th {\n",
       "        vertical-align: top;\n",
       "    }\n",
       "</style>\n",
       "<table border=\"1\" class=\"dataframe\">\n",
       "  <thead>\n",
       "    <tr style=\"text-align: right;\">\n",
       "      <th></th>\n",
       "      <th>movieId</th>\n",
       "      <th>movieName</th>\n",
       "      <th>releaseYear</th>\n",
       "      <th>country</th>\n",
       "      <th>type</th>\n",
       "      <th>myRate</th>\n",
       "      <th>myTag</th>\n",
       "      <th>href</th>\n",
       "    </tr>\n",
       "  </thead>\n",
       "  <tbody>\n",
       "    <tr>\n",
       "      <th>0</th>\n",
       "      <td>4864908</td>\n",
       "      <td>影</td>\n",
       "      <td>2018</td>\n",
       "      <td>中国大陆</td>\n",
       "      <td>电影</td>\n",
       "      <td>4</td>\n",
       "      <td>['古装', '动作']</td>\n",
       "      <td>https://movie.douban.com/subject/4864908/</td>\n",
       "    </tr>\n",
       "    <tr>\n",
       "      <th>1</th>\n",
       "      <td>3878007</td>\n",
       "      <td>海王</td>\n",
       "      <td>2018</td>\n",
       "      <td>美国</td>\n",
       "      <td>电影</td>\n",
       "      <td>5</td>\n",
       "      <td>['奇幻', '动作']</td>\n",
       "      <td>https://movie.douban.com/subject/3878007/</td>\n",
       "    </tr>\n",
       "  </tbody>\n",
       "</table>\n",
       "</div>"
      ],
      "text/plain": [
       "   movieId movieName  releaseYear country type  myRate         myTag  \\\n",
       "0  4864908         影         2018    中国大陆   电影       4  ['古装', '动作']   \n",
       "1  3878007        海王         2018      美国   电影       5  ['奇幻', '动作']   \n",
       "\n",
       "                                        href  \n",
       "0  https://movie.douban.com/subject/4864908/  \n",
       "1  https://movie.douban.com/subject/3878007/  "
      ]
     },
     "execution_count": 7,
     "metadata": {},
     "output_type": "execute_result"
    }
   ],
   "source": [
    "# columns接受一个字典，或者一个转换函数\n",
    "df1 = df.copy()\n",
    "df1.rename(columns={'mid': 'movieId','name': 'movieName', 'release_year': 'releaseYear'}, inplace=True)\n",
    "df1.head(2)"
   ]
  },
  {
   "cell_type": "markdown",
   "metadata": {},
   "source": [
    "## 末尾插入一行"
   ]
  },
  {
   "cell_type": "code",
   "execution_count": 8,
   "metadata": {},
   "outputs": [
    {
     "data": {
      "text/html": [
       "<div>\n",
       "<style>\n",
       "    .dataframe thead tr:only-child th {\n",
       "        text-align: right;\n",
       "    }\n",
       "\n",
       "    .dataframe thead th {\n",
       "        text-align: left;\n",
       "    }\n",
       "\n",
       "    .dataframe tbody tr th {\n",
       "        vertical-align: top;\n",
       "    }\n",
       "</style>\n",
       "<table border=\"1\" class=\"dataframe\">\n",
       "  <thead>\n",
       "    <tr style=\"text-align: right;\">\n",
       "      <th></th>\n",
       "      <th>mid</th>\n",
       "      <th>name</th>\n",
       "      <th>release_year</th>\n",
       "      <th>country</th>\n",
       "      <th>type</th>\n",
       "      <th>myRate</th>\n",
       "      <th>myTag</th>\n",
       "      <th>href</th>\n",
       "    </tr>\n",
       "  </thead>\n",
       "  <tbody>\n",
       "    <tr>\n",
       "      <th>585</th>\n",
       "      <td>1972724</td>\n",
       "      <td>斯坦福监狱实验</td>\n",
       "      <td>2015</td>\n",
       "      <td>美国</td>\n",
       "      <td>电影</td>\n",
       "      <td>5</td>\n",
       "      <td>['真实事件改编', '人性', '惊悚']</td>\n",
       "      <td>https://movie.douban.com/subject/1972724/</td>\n",
       "    </tr>\n",
       "    <tr>\n",
       "      <th>586</th>\n",
       "      <td>111111</td>\n",
       "      <td>你好之华</td>\n",
       "      <td>2018</td>\n",
       "      <td>中国大陆</td>\n",
       "      <td>电影</td>\n",
       "      <td>5</td>\n",
       "      <td>['爱情']</td>\n",
       "      <td>https://movie.douban.com/subject/111111/</td>\n",
       "    </tr>\n",
       "  </tbody>\n",
       "</table>\n",
       "</div>"
      ],
      "text/plain": [
       "         mid     name  release_year country type  myRate  \\\n",
       "585  1972724  斯坦福监狱实验          2015      美国   电影       5   \n",
       "586   111111     你好之华          2018    中国大陆   电影       5   \n",
       "\n",
       "                      myTag                                       href  \n",
       "585  ['真实事件改编', '人性', '惊悚']  https://movie.douban.com/subject/1972724/  \n",
       "586                  ['爱情']   https://movie.douban.com/subject/111111/  "
      ]
     },
     "execution_count": 8,
     "metadata": {},
     "output_type": "execute_result"
    }
   ],
   "source": [
    "df1 = df.copy()\n",
    "# 插入数据dict可缺少部分数据，自动填充NaN\n",
    "insert_dict = {'mid': 111111, 'name': '你好之华', 'release_year': 2018,  'country': '中国大陆', 'type':'电影', 'myRate': 5, 'myTag': '[\\'爱情\\']', 'href': 'https://movie.douban.com/subject/111111/'}\n",
    "df1 = df1.append(insert_dict, ignore_index=True)\n",
    "df1.tail(2)"
   ]
  },
  {
   "cell_type": "code",
   "execution_count": 9,
   "metadata": {},
   "outputs": [
    {
     "data": {
      "text/html": [
       "<div>\n",
       "<style>\n",
       "    .dataframe thead tr:only-child th {\n",
       "        text-align: right;\n",
       "    }\n",
       "\n",
       "    .dataframe thead th {\n",
       "        text-align: left;\n",
       "    }\n",
       "\n",
       "    .dataframe tbody tr th {\n",
       "        vertical-align: top;\n",
       "    }\n",
       "</style>\n",
       "<table border=\"1\" class=\"dataframe\">\n",
       "  <thead>\n",
       "    <tr style=\"text-align: right;\">\n",
       "      <th></th>\n",
       "      <th>mid</th>\n",
       "      <th>name</th>\n",
       "      <th>release_year</th>\n",
       "      <th>country</th>\n",
       "      <th>type</th>\n",
       "      <th>myRate</th>\n",
       "      <th>myTag</th>\n",
       "      <th>href</th>\n",
       "    </tr>\n",
       "  </thead>\n",
       "  <tbody>\n",
       "    <tr>\n",
       "      <th>585</th>\n",
       "      <td>1972724</td>\n",
       "      <td>斯坦福监狱实验</td>\n",
       "      <td>2015</td>\n",
       "      <td>美国</td>\n",
       "      <td>电影</td>\n",
       "      <td>5</td>\n",
       "      <td>['真实事件改编', '人性', '惊悚']</td>\n",
       "      <td>https://movie.douban.com/subject/1972724/</td>\n",
       "    </tr>\n",
       "    <tr>\n",
       "      <th>586</th>\n",
       "      <td>111111</td>\n",
       "      <td>你好之华</td>\n",
       "      <td>2018</td>\n",
       "      <td>中国大陆</td>\n",
       "      <td>电影</td>\n",
       "      <td>5</td>\n",
       "      <td>['爱情']</td>\n",
       "      <td>https://movie.douban.com/subject/111111/</td>\n",
       "    </tr>\n",
       "  </tbody>\n",
       "</table>\n",
       "</div>"
      ],
      "text/plain": [
       "         mid     name  release_year country type  myRate  \\\n",
       "585  1972724  斯坦福监狱实验          2015      美国   电影       5   \n",
       "586   111111     你好之华          2018    中国大陆   电影       5   \n",
       "\n",
       "                      myTag                                       href  \n",
       "585  ['真实事件改编', '人性', '惊悚']  https://movie.douban.com/subject/1972724/  \n",
       "586                  ['爱情']   https://movie.douban.com/subject/111111/  "
      ]
     },
     "execution_count": 9,
     "metadata": {},
     "output_type": "execute_result"
    }
   ],
   "source": [
    "df1 = df.copy()\n",
    "# 插入数据list必须一一对应\n",
    "insert_list = [111111, '你好之华', 2018, '中国大陆', '电影', 5, '[\\'爱情\\']', 'https://movie.douban.com/subject/111111/']\n",
    "df1.loc[len(df1)] = insert_list\n",
    "df1.tail(2)"
   ]
  },
  {
   "cell_type": "markdown",
   "metadata": {},
   "source": [
    "## 指定位置数据"
   ]
  },
  {
   "cell_type": "code",
   "execution_count": 10,
   "metadata": {},
   "outputs": [
    {
     "data": {
      "text/html": [
       "<div>\n",
       "<style>\n",
       "    .dataframe thead tr:only-child th {\n",
       "        text-align: right;\n",
       "    }\n",
       "\n",
       "    .dataframe thead th {\n",
       "        text-align: left;\n",
       "    }\n",
       "\n",
       "    .dataframe tbody tr th {\n",
       "        vertical-align: top;\n",
       "    }\n",
       "</style>\n",
       "<table border=\"1\" class=\"dataframe\">\n",
       "  <thead>\n",
       "    <tr style=\"text-align: right;\">\n",
       "      <th></th>\n",
       "      <th>mid</th>\n",
       "      <th>name</th>\n",
       "      <th>release_year</th>\n",
       "      <th>country</th>\n",
       "      <th>type</th>\n",
       "      <th>myRate</th>\n",
       "      <th>myTag</th>\n",
       "      <th>href</th>\n",
       "    </tr>\n",
       "  </thead>\n",
       "  <tbody>\n",
       "    <tr>\n",
       "      <th>584</th>\n",
       "      <td>26384741</td>\n",
       "      <td>湮灭</td>\n",
       "      <td>2018</td>\n",
       "      <td>美国</td>\n",
       "      <td>电影</td>\n",
       "      <td>4</td>\n",
       "      <td>['科幻', '悬疑']</td>\n",
       "      <td>https://movie.douban.com/subject/26384741/</td>\n",
       "    </tr>\n",
       "    <tr>\n",
       "      <th>585</th>\n",
       "      <td>111111</td>\n",
       "      <td>斯坦福监狱实验</td>\n",
       "      <td>2018</td>\n",
       "      <td>美国</td>\n",
       "      <td>电影</td>\n",
       "      <td>5</td>\n",
       "      <td>['爱情']</td>\n",
       "      <td>https://movie.douban.com/subject/111111/</td>\n",
       "    </tr>\n",
       "  </tbody>\n",
       "</table>\n",
       "</div>"
      ],
      "text/plain": [
       "          mid     name  release_year country type  myRate         myTag  \\\n",
       "584  26384741       湮灭          2018      美国   电影       4  ['科幻', '悬疑']   \n",
       "585    111111  斯坦福监狱实验          2018      美国   电影       5        ['爱情']   \n",
       "\n",
       "                                           href  \n",
       "584  https://movie.douban.com/subject/26384741/  \n",
       "585    https://movie.douban.com/subject/111111/  "
      ]
     },
     "execution_count": 10,
     "metadata": {},
     "output_type": "execute_result"
    }
   ],
   "source": [
    "df1 = df.copy()\n",
    "df1.loc[585, 'mid'] = 111111   # 通过别名修改\n",
    "df1.iloc[585, 2] = 2018        # 通过数值位置修改\n",
    "df1.iloc[585, 5:8] = [5, '[\\'爱情\\']', 'https://movie.douban.com/subject/111111/']  # 批量修改\n",
    "df1.tail(2)"
   ]
  },
  {
   "cell_type": "code",
   "execution_count": null,
   "metadata": {
    "collapsed": true
   },
   "outputs": [],
   "source": []
  }
 ],
 "metadata": {
  "kernelspec": {
   "display_name": "Python 3",
   "language": "python",
   "name": "python3"
  },
  "language_info": {
   "codemirror_mode": {
    "name": "ipython",
    "version": 3
   },
   "file_extension": ".py",
   "mimetype": "text/x-python",
   "name": "python",
   "nbconvert_exporter": "python",
   "pygments_lexer": "ipython3",
   "version": "3.6.2"
  }
 },
 "nbformat": 4,
 "nbformat_minor": 2
}
